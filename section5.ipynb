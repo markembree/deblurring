{
 "cells": [
  {
   "cell_type": "code",
   "execution_count": 1,
   "metadata": {},
   "outputs": [],
   "source": [
    "import matplotlib.pyplot as plt\n",
    "import numpy as np"
   ]
  },
  {
   "cell_type": "code",
   "execution_count": 2,
   "metadata": {},
   "outputs": [],
   "source": [
    "def h_average(s,t,z=.025):                  # averaging kernel     \n",
    "    return np.double(np.abs(s-t)<=z)/(2*z)\n",
    "\n",
    "def h_hat(s,t,z=.025):                      # hat function kernel     \n",
    "    return np.maximum(0,1-np.abs(s-t)/z)/z\n",
    "\n",
    "def h_gaussian(s,t,z=.025):                 # Gaussian kernel     \n",
    "    c = 1/(np.sqrt(np.pi)*z)\n",
    "    return c*np.exp(-np.power(s-t,2)/(z**2))\n",
    "                  \n",
    "def build_blur_A_gaussian(n=100,z=.025):\n",
    "    A = np.zeros((n,n));\n",
    "    s = np.array([(j+.5)/n for j in range(n)])\n",
    "    t = np.array([(k+.5)/n for k in range(n)])\n",
    "    for j in range(0,n):\n",
    "        A[j,:] = h_gaussian(s[j],t,z)/n\n",
    "    return A\n",
    "\n",
    "def build_blur_A_hat(n=100,z=.025):\n",
    "    A = np.zeros((n,n));\n",
    "    s = np.array([(j+.5)/n for j in range(n)])\n",
    "    t = np.array([(k+.5)/n for k in range(n)])\n",
    "    for j in range(0,n):\n",
    "        A[j,:] = h_hat(s[j],t,z)/n\n",
    "    return A\n",
    "\n",
    "def build_blur_A_average(n=100,z=.025):\n",
    "    A = np.zeros((n,n));\n",
    "    s = np.array([(j+.5)/n for j in range(n)])\n",
    "    t = np.array([(k+.5)/n for k in range(n)])\n",
    "    for j in range(0,n):\n",
    "        A[j,:] = h_average(s[j],t,z)/n\n",
    "    return A"
   ]
  },
  {
   "cell_type": "code",
   "execution_count": 3,
   "metadata": {},
   "outputs": [],
   "source": [
    "def f_function(t=0.5):\n",
    "    f1 = (t>=0.15)*np.maximum(1-12*(t-.15),0);    # a down ramp\n",
    "    f2 = np.abs(t-0.5)<=.1;                       # a step\n",
    "    f3 = np.maximum(1-10*np.abs(t-0.825),0);      # a hat\n",
    "    return f1+f2+f3 \n"
   ]
  },
  {
   "cell_type": "markdown",
   "metadata": {},
   "source": [
    "The next block of code basically replicates the second example from the Section 3 of the text."
   ]
  },
  {
   "cell_type": "code",
   "execution_count": 62,
   "metadata": {},
   "outputs": [
    {
     "data": {
      "image/png": "[encoded data removed]",
      "text/plain": [
       "<Figure size 432x288 with 1 Axes>"
      ]
     },
     "metadata": {
      "needs_background": "light"
     },
     "output_type": "display_data"
    }
   ],
   "source": [
    "n = 500\n",
    "z = 0.05;\n",
    "eps = .00001;\n",
    "\n",
    "t = np.array([(k+.5)/n for k in range(n)])\n",
    "A = build_blur_A_hat(n,z);\n",
    "f = f_function(t);\n",
    "\n",
    "b = A@f;\n",
    "e = eps*np.linalg.norm(b)*np.random.randn(n);\n",
    "bnoise = b+e;\n",
    "\n",
    "frec = np.linalg.solve(A,bnoise)\n",
    "plt.plot(t,f,'.',color='blue',markersize=5,label='$f$')\n",
    "plt.plot(t,frec,'.',markerfacecolor='none',color='blue',\\\n",
    "         markersize=8,label='$f_{rec}$')\n",
    "plt.legend();"
   ]
  },
  {
   "cell_type": "markdown",
   "metadata": {},
   "source": [
    "The next code block shows how to implement the regularization solve"
   ]
  },
  {
   "cell_type": "code",
   "execution_count": 64,
   "metadata": {},
   "outputs": [
    {
     "name": "stdout",
     "output_type": "stream",
     "text": [
      "1.049742605056911e-14\n"
     ]
    },
    {
     "data": {
      "image/png": "[encoded data removed]",
      "text/plain": [
       "<Figure size 432x288 with 1 Axes>"
      ]
     },
     "metadata": {
      "needs_background": "light"
     },
     "output_type": "display_data"
    }
   ],
   "source": [
    "lam = 1;\n",
    "I   = np.identity(n)\n",
    "flam = np.linalg.solve(A.T@A+(lam**2)*I,(A.T)@bnoise)\n",
    "Alam = np.block([[A],[lam*I]])\n",
    "blam = np.block([bnoise,np.zeros(n)])\n",
    "flam2 = np.linalg.lstsq(Alam,blam,rcond=None)[0]\n",
    "\n",
    "plt.plot(t,f,'.',color='blue',markersize=5)\n",
    "plt.plot(t,flam,'.',markerfacecolor='none',color='red',markersize=8)\n",
    "plt.plot(t,flam2,'.',markerfacecolor='none',color='green',markersize=8)\n",
    "\n",
    "print(np.linalg.norm(flam-flam2))"
   ]
  },
  {
   "cell_type": "markdown",
   "metadata": {},
   "source": [
    "The high precision solution (MATLAB + MCT) is:\n",
    "\n",
    "f = \n",
    " 0.50000000002499747525122\n",
    " 0.49999999997500247475127"
   ]
  },
  {
   "cell_type": "code",
   "execution_count": 86,
   "metadata": {},
   "outputs": [
    {
     "name": "stdout",
     "output_type": "stream",
     "text": [
      "[0.50011101 0.49988899]\n",
      " \n",
      "[0.5 0.5]\n",
      " \n",
      "0.5000000245364837\n",
      "0.5\n"
     ]
    }
   ],
   "source": [
    "A = np.array([[1,1],[1+1e-6,1-1e-6]])\n",
    "b = np.array([1,1])\n",
    "lam = 1e-8;\n",
    "I    = np.identity(2)\n",
    "Alam = np.block([[A],[lam*I]])\n",
    "blam = np.block([b,np.zeros(2)])\n",
    "\n",
    "flam = np.linalg.solve(A.T@A+(lam**2)*I,(A.T)@b)\n",
    "flam2 = np.linalg.lstsq(Alam,blam,rcond=None)[0]\n",
    "print(flam)\n",
    "print(' ')\n",
    "print(flam2)\n",
    "print(' ')\n",
    "print(np.linalg.norm(b-A@flam)**2+lam**2+np.linalg.norm(flam)**2)\n",
    "print(np.linalg.norm(b-A@flam2)**2+lam**2+np.linalg.norm(flam2)**2)"
   ]
  },
  {
   "cell_type": "code",
   "execution_count": 54,
   "metadata": {},
   "outputs": [
    {
     "data": {
      "text/plain": [
       "(1000, 500)"
      ]
     },
     "execution_count": 54,
     "metadata": {},
     "output_type": "execute_result"
    }
   ],
   "source": [
    "np.shape(Alam)"
   ]
  },
  {
   "cell_type": "code",
   "execution_count": 60,
   "metadata": {},
   "outputs": [
    {
     "name": "stdout",
     "output_type": "stream",
     "text": [
      "[[1 2]\n",
      " [3 4]]\n",
      "[[1.   2.  ]\n",
      " [3.   4.  ]\n",
      " [0.01 0.  ]\n",
      " [0.   0.01]]\n",
      "[3. 2. 0. 0.]\n",
      "[-3.99677741  3.4977267 ]\n",
      "[ 0.00132401 -0.00057456  0.03996777 -0.03497727]\n"
     ]
    }
   ],
   "source": [
    "A = np.array([[1,2],[3,4]])\n",
    "print(A)\n",
    "I = np.identity(2);\n",
    "Alam = np.block([[A],[.01*I]])\n",
    "print(Alam)\n",
    "b = np.array([3,2])\n",
    "blam = np.block([b,np.zeros(2)])\n",
    "print(blam)\n",
    "flam = np.linalg.lstsq(Alam,blam,rcond=None)[0]\n",
    "print(flam)\n",
    "print(blam-Alam@flam)"
   ]
  },
  {
   "cell_type": "code",
   "execution_count": 44,
   "metadata": {},
   "outputs": [
    {
     "name": "stdout",
     "output_type": "stream",
     "text": [
      "[ 3.14097030e-05  1.13105392e-04  1.31904101e-04 -1.12095502e-04\n",
      " -1.15674024e-05 -7.38551294e-05 -5.96677594e-05 -6.34575104e-05\n",
      "  1.92234579e-05 -1.40130142e-05 -5.48532703e-06  1.41242742e-04\n",
      "  6.08648963e-05 -1.41821012e-05  3.61509208e-05  1.87205070e-06\n",
      " -6.36996073e-05 -1.86323176e-04 -2.99133130e-05  8.40290556e-05\n",
      "  1.77027574e-05  2.42956006e-04  4.83112150e-05  1.13376034e-04\n",
      "  6.44858940e-05  3.33374360e-05 -1.57987366e-04  1.17475111e-04\n",
      "  1.09898483e-04  1.87755491e-04  2.28272765e-04  5.36402650e-06\n",
      "  6.24005774e-05  7.84104696e-05  1.60911192e-04  5.90163150e-05\n",
      " -6.30002390e-05 -6.57106925e-05  1.27255447e-04 -8.21226335e-05\n",
      "  5.36825214e-05  5.46479171e-05  1.22768784e-04  8.54217422e-05\n",
      " -1.62082013e-04 -3.95397439e-05  2.93617218e-05 -2.61659359e-05\n",
      " -7.97957793e-06  2.18084087e-04  1.66101195e-05  1.52215385e-03\n",
      "  4.59934626e-03  9.19490795e-03  1.53220800e-02  2.30416708e-02\n",
      "  3.18781694e-02  4.20597272e-02  5.38529565e-02  6.66797375e-02\n",
      "  8.06315467e-02  9.59406385e-02  1.12342761e-01  1.29775501e-01\n",
      "  1.48517507e-01  1.68121899e-01  1.88708331e-01  2.10454356e-01\n",
      "  2.32851218e-01  2.56636002e-01  2.80949666e-01  3.05865881e-01\n",
      "  3.32063404e-01  3.58720320e-01  3.85996444e-01  4.13916213e-01\n",
      "  4.39348692e-01  4.62356238e-01  4.82778423e-01  5.00922128e-01\n",
      "  5.16657257e-01  5.29768270e-01  5.41008846e-01  5.49570344e-01\n",
      "  5.56092901e-01  5.60382716e-01  5.62831316e-01  5.62660997e-01\n",
      "  5.60676944e-01  5.56769179e-01  5.50672898e-01  5.42452968e-01\n",
      "  5.32405103e-01  5.20769896e-01  5.07072358e-01  4.91754594e-01\n",
      "  4.74844526e-01  4.56596901e-01  4.36389591e-01  4.15115769e-01\n",
      "  3.92477733e-01  3.70038939e-01  3.48113064e-01  3.26592427e-01\n",
      "  3.05452106e-01  2.85003743e-01  2.64892266e-01  2.45480411e-01\n",
      "  2.26476205e-01  2.07948586e-01  1.90590629e-01  1.73802034e-01\n",
      "  1.57657389e-01  1.42564168e-01  1.28122016e-01  1.14422381e-01\n",
      "  1.01969176e-01  8.99851317e-02  7.96209752e-02  6.95300346e-02\n",
      "  6.05175934e-02  5.24643533e-02  4.49944109e-02  3.83080608e-02\n",
      "  3.23102796e-02  2.69491862e-02  2.22732162e-02  1.80592672e-02\n",
      "  1.46478134e-02  1.15490584e-02  8.93484876e-03  6.69319422e-03\n",
      "  4.95747954e-03  3.72099955e-03  2.34307412e-03  1.64032824e-03\n",
      "  8.86348820e-04  2.87751784e-04  2.57709011e-04 -9.30458250e-07\n",
      "  2.89939911e-05  2.46378004e-05 -1.07747442e-04  1.88286977e-05\n",
      "  8.91313125e-05 -6.85738024e-05  4.03850185e-05  1.71509208e-04\n",
      " -2.74609959e-05  1.44310353e-04 -6.53998554e-05 -2.30224102e-04\n",
      "  1.33016793e-05 -1.98764727e-05 -6.02837774e-05 -1.32580100e-04\n",
      " -3.76547901e-05 -8.44136489e-05  1.04848809e-04  3.14372631e-04\n",
      " -2.83056509e-06 -6.39102215e-05 -4.74469998e-06 -1.33072108e-04\n",
      " -6.94861968e-06  6.21194013e-05  1.95575475e-05 -8.24869415e-05\n",
      " -4.25416255e-05  1.61968635e-04 -1.40825688e-07 -1.49813022e-04\n",
      " -1.80709395e-04 -2.30054622e-05 -3.41595418e-05  2.11825732e-04\n",
      "  1.65315178e-03  4.78891418e-03  9.68352303e-03  1.60001255e-02\n",
      "  2.40290854e-02  3.37028475e-02  4.48972067e-02  5.76637435e-02\n",
      "  7.21310749e-02  8.80238879e-02  1.05503152e-01  1.24849784e-01\n",
      "  1.45590805e-01  1.68081818e-01  1.92069753e-01  2.17505741e-01\n",
      "  2.44792788e-01  2.73768487e-01  3.03992097e-01  3.35917373e-01\n",
      "  3.69510819e-01  4.04839539e-01  4.41466692e-01  4.80071634e-01\n",
      "  5.19869446e-01  5.58498743e-01  5.95304071e-01  6.30287173e-01\n",
      "  6.63930584e-01  6.96035400e-01  7.26475705e-01  7.55125574e-01\n",
      "  7.82122028e-01  8.07974183e-01  8.32091457e-01  8.54504366e-01\n",
      "  8.75273823e-01  8.94531960e-01  9.12000424e-01  9.27995076e-01\n",
      "  9.42533281e-01  9.55179157e-01  9.66398310e-01  9.76041849e-01\n",
      "  9.83975149e-01  9.90227775e-01  9.95109394e-01  9.98311749e-01\n",
      "  9.99957930e-01  9.99926967e-01  1.00001560e+00  1.00007966e+00\n",
      "  9.99857595e-01  1.00020791e+00  9.99929199e-01  9.99974227e-01\n",
      "  1.00003932e+00  1.00002316e+00  9.99957365e-01  1.00008961e+00\n",
      "  9.99970753e-01  1.00008437e+00  9.99810379e-01  1.00007377e+00\n",
      "  1.00007575e+00  9.99906929e-01  1.00011874e+00  1.00016907e+00\n",
      "  1.00005555e+00  1.00006274e+00  1.00000683e+00  9.99795732e-01\n",
      "  9.99852481e-01  1.00006751e+00  1.00012732e+00  9.99881872e-01\n",
      "  9.99918711e-01  9.99825279e-01  1.00002079e+00  9.99921414e-01\n",
      "  9.99867989e-01  9.99887271e-01  1.00004023e+00  9.99957733e-01\n",
      "  9.99955859e-01  9.99851997e-01  9.99940074e-01  1.00015593e+00\n",
      "  9.99883992e-01  9.99867747e-01  1.00000780e+00  9.99948020e-01\n",
      "  9.99881695e-01  9.99764350e-01  9.99875422e-01  1.00000214e+00\n",
      "  1.00000712e+00  9.99937368e-01  9.99928852e-01  9.99978159e-01\n",
      "  9.98506033e-01  9.95142239e-01  9.90366480e-01  9.84231796e-01\n",
      "  9.76025600e-01  9.66673127e-01  9.55183154e-01  9.42461354e-01\n",
      "  9.27887833e-01  9.12035936e-01  8.94418698e-01  8.75182281e-01\n",
      "  8.54477399e-01  8.32175410e-01  8.08128025e-01  7.82494321e-01\n",
      "  7.55212079e-01  7.26475916e-01  6.95980208e-01  6.64091393e-01\n",
      "  6.30402588e-01  5.95096357e-01  5.58479440e-01  5.19980321e-01\n",
      "  4.79828811e-01  4.41581724e-01  4.04798123e-01  3.69611382e-01\n",
      "  3.36131943e-01  3.03868496e-01  2.73666007e-01  2.44712445e-01\n",
      "  2.17607640e-01  1.92049643e-01  1.67986966e-01  1.45553063e-01\n",
      "  1.24882460e-01  1.05511500e-01  8.80431058e-02  7.20843964e-02\n",
      "  5.74422104e-02  4.47109117e-02  3.34099137e-02  2.38198803e-02\n",
      "  1.60227312e-02  9.65003070e-03  4.88654268e-03  1.63343848e-03\n",
      " -1.73161180e-04  4.62827982e-05 -1.14567240e-05  1.84148342e-04\n",
      " -4.19977053e-05 -6.63485440e-06 -8.09772932e-05  4.07374467e-05\n",
      " -3.68993147e-06 -6.02233339e-05 -6.54187968e-05 -3.30501310e-05\n",
      " -2.50307413e-05 -6.91856722e-05  1.92234980e-05  3.04434893e-05\n",
      "  4.48556204e-04  3.08722624e-04  6.95006642e-04  1.18526608e-03\n",
      "  1.71291996e-03  2.74379108e-03  3.91274618e-03  5.14776920e-03\n",
      "  7.03423622e-03  9.02356168e-03  1.16450743e-02  1.44713003e-02\n",
      "  1.78358964e-02  2.16464475e-02  2.61571600e-02  3.10381707e-02\n",
      "  3.63368027e-02  4.25116078e-02  4.93049253e-02  5.66598913e-02\n",
      "  6.47618197e-02  7.36416913e-02  8.30816879e-02  9.35528896e-02\n",
      "  1.04831195e-01  1.16666572e-01  1.29312362e-01  1.42457827e-01\n",
      "  1.56430456e-01  1.71017599e-01  1.86036705e-01  2.01888435e-01\n",
      "  2.18000344e-01  2.34381696e-01  2.51747259e-01  2.69016929e-01\n",
      "  2.86955123e-01  3.05286447e-01  3.23844163e-01  3.42763373e-01\n",
      "  3.61791328e-01  3.81252269e-01  4.00667861e-01  4.20315376e-01\n",
      "  4.40259912e-01  4.60229329e-01  4.79948125e-01  4.99954266e-01\n",
      "  5.20080854e-01  5.40021635e-01  5.59754572e-01  5.79576936e-01\n",
      "  5.98582587e-01  6.17952747e-01  6.36506013e-01  6.55027328e-01\n",
      "  6.72270810e-01  6.89489820e-01  7.05871065e-01  7.21455449e-01\n",
      "  7.36600538e-01  7.50776289e-01  7.64313413e-01  7.76475401e-01\n",
      "  7.87772811e-01  7.97972008e-01  8.07203868e-01  8.14810223e-01\n",
      "  8.21389339e-01  8.26541603e-01  8.30330351e-01  8.32836679e-01\n",
      "  8.33615693e-01  8.32974798e-01  8.30462503e-01  8.26707865e-01\n",
      "  8.21360473e-01  8.14968322e-01  8.06862675e-01  7.97846398e-01\n",
      "  7.87608264e-01  7.76572425e-01  7.64127421e-01  7.51005569e-01\n",
      "  7.36570030e-01  7.21678204e-01  7.06042794e-01  6.89526863e-01\n",
      "  6.72295948e-01  6.54624500e-01  6.36398763e-01  6.17702154e-01\n",
      "  5.98819021e-01  5.79183251e-01  5.59795072e-01  5.39901165e-01\n",
      "  5.20045675e-01  5.00033647e-01  4.79995981e-01  4.60210045e-01\n",
      "  4.40192325e-01  4.20318321e-01  4.00601408e-01  3.81117379e-01\n",
      "  3.61882447e-01  3.42796221e-01  3.23646768e-01  3.05418977e-01\n",
      "  2.87171099e-01  2.69195788e-01  2.51674937e-01  2.34341392e-01\n",
      "  2.17927550e-01  2.01863262e-01  1.86146459e-01  1.70836347e-01\n",
      "  1.56773698e-01  1.42505627e-01  1.29286729e-01  1.16797962e-01\n",
      "  1.04722950e-01  9.34741304e-02  8.31320316e-02  7.37775130e-02\n",
      "  6.47154052e-02  5.66239697e-02  4.91464184e-02  4.26412538e-02\n",
      "  3.64377092e-02  3.11402479e-02  2.59864114e-02  2.16854693e-02\n",
      "  1.79789762e-02  1.45666799e-02  1.18571892e-02  9.24033142e-03\n",
      "  7.28924163e-03  5.28160674e-03  3.78171701e-03  2.89517337e-03\n",
      "  1.91865074e-03  1.01975069e-03  9.28184346e-04  4.34206663e-04\n",
      "  1.43580777e-04  8.41267936e-05  1.47510835e-05  1.03984540e-04\n",
      " -1.02229466e-04  2.71845973e-05  1.25294339e-05 -6.62143859e-05\n",
      "  4.58116590e-05 -1.62067131e-04  1.97047951e-04 -1.76408847e-05\n",
      "  3.59446295e-04  2.51239311e-04  1.31125505e-04  8.59155962e-07]\n"
     ]
    }
   ],
   "source": [
    "print(bnoise)"
   ]
  },
  {
   "cell_type": "code",
   "execution_count": null,
   "metadata": {},
   "outputs": [],
   "source": []
  }
 ],
 "metadata": {
  "kernelspec": {
   "display_name": "Python 3",
   "language": "python",
   "name": "python3"
  },
  "language_info": {
   "codemirror_mode": {
    "name": "ipython",
    "version": 3
   },
   "file_extension": ".py",
   "mimetype": "text/x-python",
   "name": "python",
   "nbconvert_exporter": "python",
   "pygments_lexer": "ipython3",
   "version": "3.7.4"
  }
 },
 "nbformat": 4,
 "nbformat_minor": 2
}
